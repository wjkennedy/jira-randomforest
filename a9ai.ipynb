{
 "cells": [
  {
   "cell_type": "code",
   "execution_count": 27,
   "id": "ad1e3798-a245-4073-9109-ab8c748537d8",
   "metadata": {},
   "outputs": [
    {
     "name": "stdout",
     "output_type": "stream",
     "text": [
      "Defaulting to user installation because normal site-packages is not writeable\n",
      "Requirement already satisfied: pandas in /home/wjk/.local/lib/python3.10/site-packages (from -r requirements.txt (line 1)) (1.5.2)\n",
      "Requirement already satisfied: numpy in /usr/lib/python3/dist-packages (from -r requirements.txt (line 2)) (1.23.5)\n",
      "Requirement already satisfied: jira in /home/wjk/.local/lib/python3.10/site-packages (from -r requirements.txt (line 3)) (3.4.1)\n",
      "Requirement already satisfied: scikit-learn in /home/wjk/.local/lib/python3.10/site-packages (from -r requirements.txt (line 4)) (1.2.1)\n",
      "Requirement already satisfied: configparser in /usr/local/lib/python3.10/dist-packages (from -r requirements.txt (line 5)) (5.3.0)\n",
      "Collecting pyjwt\n",
      "  Downloading PyJWT-2.6.0-py3-none-any.whl (20 kB)\n",
      "Requirement already satisfied: pytz>=2020.1 in /usr/lib/python3/dist-packages (from pandas->-r requirements.txt (line 1)) (2022.7)\n",
      "Requirement already satisfied: python-dateutil>=2.8.1 in /usr/lib/python3/dist-packages (from pandas->-r requirements.txt (line 1)) (2.8.2)\n",
      "Requirement already satisfied: packaging in /usr/lib/python3/dist-packages (from jira->-r requirements.txt (line 3)) (22.0)\n",
      "Requirement already satisfied: defusedxml in /usr/lib/python3/dist-packages (from jira->-r requirements.txt (line 3)) (0.7.1)\n",
      "Requirement already satisfied: requests-oauthlib>=1.1.0 in /home/wjk/.local/lib/python3.10/site-packages (from jira->-r requirements.txt (line 3)) (1.3.1)\n",
      "Requirement already satisfied: typing-extensions>=3.7.4.2 in /home/wjk/.local/lib/python3.10/site-packages (from jira->-r requirements.txt (line 3)) (4.4.0)\n",
      "Requirement already satisfied: requests-toolbelt in /home/wjk/.local/lib/python3.10/site-packages (from jira->-r requirements.txt (line 3)) (0.10.1)\n",
      "Requirement already satisfied: requests>=2.10.0 in /usr/lib/python3/dist-packages (from jira->-r requirements.txt (line 3)) (2.28.1)\n",
      "Requirement already satisfied: threadpoolctl>=2.0.0 in /home/wjk/.local/lib/python3.10/site-packages (from scikit-learn->-r requirements.txt (line 4)) (3.1.0)\n",
      "Requirement already satisfied: scipy>=1.3.2 in /usr/lib/python3/dist-packages (from scikit-learn->-r requirements.txt (line 4)) (1.8.1)\n",
      "Requirement already satisfied: joblib>=1.1.1 in /home/wjk/.local/lib/python3.10/site-packages (from scikit-learn->-r requirements.txt (line 4)) (1.2.0)\n",
      "Requirement already satisfied: oauthlib>=3.0.0 in /home/wjk/.local/lib/python3.10/site-packages (from requests-oauthlib>=1.1.0->jira->-r requirements.txt (line 3)) (3.2.2)\n",
      "Installing collected packages: pyjwt\n",
      "Successfully installed pyjwt-2.6.0\n"
     ]
    }
   ],
   "source": [
    "! pip install -r requirements.txt"
   ]
  },
  {
   "cell_type": "code",
   "execution_count": 26,
   "id": "b6bd56fa-3e91-46d4-827d-43d19fc32f84",
   "metadata": {},
   "outputs": [
    {
     "name": "stdout",
     "output_type": "stream",
     "text": [
      "Defaulting to user installation because normal site-packages is not writeable\n",
      "Requirement already satisfied: jwt in /home/wjk/.local/lib/python3.10/site-packages (1.3.1)\n",
      "Requirement already satisfied: cryptography!=3.4.0,>=3.1 in /usr/lib/python3/dist-packages (from jwt) (3.4.8)\n"
     ]
    }
   ],
   "source": [
    "!pip install -U jwt"
   ]
  },
  {
   "cell_type": "code",
   "execution_count": 28,
   "id": "ccc50253-2b1c-46f5-b07b-c776481d30d4",
   "metadata": {},
   "outputs": [],
   "source": [
    "import jira\n",
    "from jira import JIRA\n",
    "import pandas as pd\n",
    "import configparser\n",
    "import jwt\n",
    "from sklearn.ensemble import RandomForestClassifier\n"
   ]
  },
  {
   "cell_type": "code",
   "execution_count": 29,
   "id": "a93d38a6-7a0e-4ed5-8adc-964d5be25c98",
   "metadata": {},
   "outputs": [
    {
     "ename": "ImportError",
     "evalue": "cannot import name 'InvalidKeyError' from 'jwt.exceptions' (/home/wjk/.local/lib/python3.10/site-packages/jwt/exceptions.py)",
     "output_type": "error",
     "traceback": [
      "\u001b[0;31m---------------------------------------------------------------------------\u001b[0m",
      "\u001b[0;31mImportError\u001b[0m                               Traceback (most recent call last)",
      "Cell \u001b[0;32mIn [29], line 12\u001b[0m\n\u001b[1;32m      9\u001b[0m key_cert \u001b[38;5;241m=\u001b[39m config\u001b[38;5;241m.\u001b[39mget(\u001b[38;5;124m'\u001b[39m\u001b[38;5;124mOAUTH\u001b[39m\u001b[38;5;124m'\u001b[39m, \u001b[38;5;124m'\u001b[39m\u001b[38;5;124mkey_cert\u001b[39m\u001b[38;5;124m'\u001b[39m)\n\u001b[1;32m     11\u001b[0m \u001b[38;5;66;03m# Step 4: Connect to Jira using OAuth\u001b[39;00m\n\u001b[0;32m---> 12\u001b[0m jira \u001b[38;5;241m=\u001b[39m \u001b[43mJIRA\u001b[49m\u001b[43m(\u001b[49m\u001b[43moauth\u001b[49m\u001b[38;5;241;43m=\u001b[39;49m\u001b[43m{\u001b[49m\n\u001b[1;32m     13\u001b[0m \u001b[43m    \u001b[49m\u001b[38;5;124;43m\"\u001b[39;49m\u001b[38;5;124;43maccess_token\u001b[39;49m\u001b[38;5;124;43m\"\u001b[39;49m\u001b[43m:\u001b[49m\u001b[43m \u001b[49m\u001b[43maccess_token\u001b[49m\u001b[43m,\u001b[49m\n\u001b[1;32m     14\u001b[0m \u001b[43m    \u001b[49m\u001b[38;5;124;43m\"\u001b[39;49m\u001b[38;5;124;43maccess_token_secret\u001b[39;49m\u001b[38;5;124;43m\"\u001b[39;49m\u001b[43m:\u001b[49m\u001b[43m \u001b[49m\u001b[43maccess_token_secret\u001b[49m\u001b[43m,\u001b[49m\n\u001b[1;32m     15\u001b[0m \u001b[43m    \u001b[49m\u001b[38;5;124;43m\"\u001b[39;49m\u001b[38;5;124;43mconsumer_key\u001b[39;49m\u001b[38;5;124;43m\"\u001b[39;49m\u001b[43m:\u001b[49m\u001b[43m \u001b[49m\u001b[43mconsumer_key\u001b[49m\u001b[43m,\u001b[49m\n\u001b[1;32m     16\u001b[0m \u001b[43m    \u001b[49m\u001b[38;5;124;43m\"\u001b[39;49m\u001b[38;5;124;43mkey_cert\u001b[39;49m\u001b[38;5;124;43m\"\u001b[39;49m\u001b[43m:\u001b[49m\u001b[43m \u001b[49m\u001b[43mkey_cert\u001b[49m\n\u001b[1;32m     17\u001b[0m \u001b[43m}\u001b[49m\u001b[43m)\u001b[49m\n",
      "File \u001b[0;32m~/.local/lib/python3.10/site-packages/jira/client.py:574\u001b[0m, in \u001b[0;36mJIRA.__init__\u001b[0;34m(self, server, options, basic_auth, token_auth, oauth, jwt, kerberos, kerberos_options, validate, get_server_info, async_, async_workers, logging, max_retries, proxies, timeout, auth, default_batch_sizes)\u001b[0m\n\u001b[1;32m    571\u001b[0m \u001b[38;5;28mself\u001b[39m\u001b[38;5;241m.\u001b[39mdeploymentType \u001b[38;5;241m=\u001b[39m \u001b[38;5;28;01mNone\u001b[39;00m\n\u001b[1;32m    572\u001b[0m \u001b[38;5;28;01mif\u001b[39;00m get_server_info:\n\u001b[1;32m    573\u001b[0m     \u001b[38;5;66;03m# We need version in order to know what API calls are available or not\u001b[39;00m\n\u001b[0;32m--> 574\u001b[0m     si \u001b[38;5;241m=\u001b[39m \u001b[38;5;28;43mself\u001b[39;49m\u001b[38;5;241;43m.\u001b[39;49m\u001b[43mserver_info\u001b[49m\u001b[43m(\u001b[49m\u001b[43m)\u001b[49m\n\u001b[1;32m    575\u001b[0m     \u001b[38;5;28;01mtry\u001b[39;00m:\n\u001b[1;32m    576\u001b[0m         \u001b[38;5;28mself\u001b[39m\u001b[38;5;241m.\u001b[39m_version \u001b[38;5;241m=\u001b[39m \u001b[38;5;28mtuple\u001b[39m(si[\u001b[38;5;124m\"\u001b[39m\u001b[38;5;124mversionNumbers\u001b[39m\u001b[38;5;124m\"\u001b[39m])\n",
      "File \u001b[0;32m~/.local/lib/python3.10/site-packages/jira/client.py:3059\u001b[0m, in \u001b[0;36mJIRA.server_info\u001b[0;34m(self)\u001b[0m\n\u001b[1;32m   3053\u001b[0m \u001b[38;5;124;03m\"\"\"Get a dict of server information for this Jira instance.\u001b[39;00m\n\u001b[1;32m   3054\u001b[0m \n\u001b[1;32m   3055\u001b[0m \u001b[38;5;124;03mReturns:\u001b[39;00m\n\u001b[1;32m   3056\u001b[0m \u001b[38;5;124;03m    Dict[str, Any]\u001b[39;00m\n\u001b[1;32m   3057\u001b[0m \u001b[38;5;124;03m\"\"\"\u001b[39;00m\n\u001b[1;32m   3058\u001b[0m retry \u001b[38;5;241m=\u001b[39m \u001b[38;5;241m0\u001b[39m\n\u001b[0;32m-> 3059\u001b[0m j \u001b[38;5;241m=\u001b[39m \u001b[38;5;28;43mself\u001b[39;49m\u001b[38;5;241;43m.\u001b[39;49m\u001b[43m_get_json\u001b[49m\u001b[43m(\u001b[49m\u001b[38;5;124;43m\"\u001b[39;49m\u001b[38;5;124;43mserverInfo\u001b[39;49m\u001b[38;5;124;43m\"\u001b[39;49m\u001b[43m)\u001b[49m\n\u001b[1;32m   3060\u001b[0m \u001b[38;5;28;01mwhile\u001b[39;00m \u001b[38;5;129;01mnot\u001b[39;00m j \u001b[38;5;129;01mand\u001b[39;00m retry \u001b[38;5;241m<\u001b[39m \u001b[38;5;241m3\u001b[39m:\n\u001b[1;32m   3061\u001b[0m     \u001b[38;5;28mself\u001b[39m\u001b[38;5;241m.\u001b[39mlog\u001b[38;5;241m.\u001b[39mwarning(\n\u001b[1;32m   3062\u001b[0m         \u001b[38;5;124m\"\u001b[39m\u001b[38;5;124mBug https://jira.atlassian.com/browse/JRA-59676 trying again...\u001b[39m\u001b[38;5;124m\"\u001b[39m\n\u001b[1;32m   3063\u001b[0m     )\n",
      "File \u001b[0;32m~/.local/lib/python3.10/site-packages/jira/client.py:3764\u001b[0m, in \u001b[0;36mJIRA._get_json\u001b[0;34m(self, path, params, base)\u001b[0m\n\u001b[1;32m   3752\u001b[0m \u001b[38;5;124;03m\"\"\"Get the json for a given path and params.\u001b[39;00m\n\u001b[1;32m   3753\u001b[0m \n\u001b[1;32m   3754\u001b[0m \u001b[38;5;124;03mArgs:\u001b[39;00m\n\u001b[0;32m   (...)\u001b[0m\n\u001b[1;32m   3761\u001b[0m \n\u001b[1;32m   3762\u001b[0m \u001b[38;5;124;03m\"\"\"\u001b[39;00m\n\u001b[1;32m   3763\u001b[0m url \u001b[38;5;241m=\u001b[39m \u001b[38;5;28mself\u001b[39m\u001b[38;5;241m.\u001b[39m_get_url(path, base)\n\u001b[0;32m-> 3764\u001b[0m r \u001b[38;5;241m=\u001b[39m \u001b[38;5;28;43mself\u001b[39;49m\u001b[38;5;241;43m.\u001b[39;49m\u001b[43m_session\u001b[49m\u001b[38;5;241;43m.\u001b[39;49m\u001b[43mget\u001b[49m\u001b[43m(\u001b[49m\u001b[43murl\u001b[49m\u001b[43m,\u001b[49m\u001b[43m \u001b[49m\u001b[43mparams\u001b[49m\u001b[38;5;241;43m=\u001b[39;49m\u001b[43mparams\u001b[49m\u001b[43m)\u001b[49m\n\u001b[1;32m   3765\u001b[0m \u001b[38;5;28;01mtry\u001b[39;00m:\n\u001b[1;32m   3766\u001b[0m     r_json \u001b[38;5;241m=\u001b[39m json_loads(r)\n",
      "File \u001b[0;32m/usr/lib/python3/dist-packages/requests/sessions.py:600\u001b[0m, in \u001b[0;36mSession.get\u001b[0;34m(self, url, **kwargs)\u001b[0m\n\u001b[1;32m    592\u001b[0m \u001b[38;5;124mr\u001b[39m\u001b[38;5;124;03m\"\"\"Sends a GET request. Returns :class:`Response` object.\u001b[39;00m\n\u001b[1;32m    593\u001b[0m \n\u001b[1;32m    594\u001b[0m \u001b[38;5;124;03m:param url: URL for the new :class:`Request` object.\u001b[39;00m\n\u001b[1;32m    595\u001b[0m \u001b[38;5;124;03m:param \\*\\*kwargs: Optional arguments that ``request`` takes.\u001b[39;00m\n\u001b[1;32m    596\u001b[0m \u001b[38;5;124;03m:rtype: requests.Response\u001b[39;00m\n\u001b[1;32m    597\u001b[0m \u001b[38;5;124;03m\"\"\"\u001b[39;00m\n\u001b[1;32m    599\u001b[0m kwargs\u001b[38;5;241m.\u001b[39msetdefault(\u001b[38;5;124m\"\u001b[39m\u001b[38;5;124mallow_redirects\u001b[39m\u001b[38;5;124m\"\u001b[39m, \u001b[38;5;28;01mTrue\u001b[39;00m)\n\u001b[0;32m--> 600\u001b[0m \u001b[38;5;28;01mreturn\u001b[39;00m \u001b[38;5;28;43mself\u001b[39;49m\u001b[38;5;241;43m.\u001b[39;49m\u001b[43mrequest\u001b[49m\u001b[43m(\u001b[49m\u001b[38;5;124;43m\"\u001b[39;49m\u001b[38;5;124;43mGET\u001b[39;49m\u001b[38;5;124;43m\"\u001b[39;49m\u001b[43m,\u001b[49m\u001b[43m \u001b[49m\u001b[43murl\u001b[49m\u001b[43m,\u001b[49m\u001b[43m \u001b[49m\u001b[38;5;241;43m*\u001b[39;49m\u001b[38;5;241;43m*\u001b[39;49m\u001b[43mkwargs\u001b[49m\u001b[43m)\u001b[49m\n",
      "File \u001b[0;32m~/.local/lib/python3.10/site-packages/jira/resilientsession.py:202\u001b[0m, in \u001b[0;36mResilientSession.request\u001b[0;34m(self, method, url, _prepare_retry_class, **kwargs)\u001b[0m\n\u001b[1;32m    199\u001b[0m exception \u001b[38;5;241m=\u001b[39m \u001b[38;5;28;01mNone\u001b[39;00m\n\u001b[1;32m    201\u001b[0m \u001b[38;5;28;01mtry\u001b[39;00m:\n\u001b[0;32m--> 202\u001b[0m     response \u001b[38;5;241m=\u001b[39m \u001b[38;5;28;43msuper\u001b[39;49m\u001b[43m(\u001b[49m\u001b[43m)\u001b[49m\u001b[38;5;241;43m.\u001b[39;49m\u001b[43mrequest\u001b[49m\u001b[43m(\u001b[49m\u001b[43mmethod\u001b[49m\u001b[43m,\u001b[49m\u001b[43m \u001b[49m\u001b[43murl\u001b[49m\u001b[43m,\u001b[49m\u001b[43m \u001b[49m\u001b[38;5;241;43m*\u001b[39;49m\u001b[38;5;241;43m*\u001b[39;49m\u001b[43mprocessed_kwargs\u001b[49m\u001b[43m)\u001b[49m\n\u001b[1;32m    203\u001b[0m     \u001b[38;5;28;01mif\u001b[39;00m response\u001b[38;5;241m.\u001b[39mok:\n\u001b[1;32m    204\u001b[0m         \u001b[38;5;28mself\u001b[39m\u001b[38;5;241m.\u001b[39m__handle_known_ok_response_errors(response)\n",
      "File \u001b[0;32m/usr/lib/python3/dist-packages/requests/sessions.py:573\u001b[0m, in \u001b[0;36mSession.request\u001b[0;34m(self, method, url, params, data, headers, cookies, files, auth, timeout, allow_redirects, proxies, hooks, stream, verify, cert, json)\u001b[0m\n\u001b[1;32m    560\u001b[0m \u001b[38;5;66;03m# Create the Request.\u001b[39;00m\n\u001b[1;32m    561\u001b[0m req \u001b[38;5;241m=\u001b[39m Request(\n\u001b[1;32m    562\u001b[0m     method\u001b[38;5;241m=\u001b[39mmethod\u001b[38;5;241m.\u001b[39mupper(),\n\u001b[1;32m    563\u001b[0m     url\u001b[38;5;241m=\u001b[39murl,\n\u001b[0;32m   (...)\u001b[0m\n\u001b[1;32m    571\u001b[0m     hooks\u001b[38;5;241m=\u001b[39mhooks,\n\u001b[1;32m    572\u001b[0m )\n\u001b[0;32m--> 573\u001b[0m prep \u001b[38;5;241m=\u001b[39m \u001b[38;5;28;43mself\u001b[39;49m\u001b[38;5;241;43m.\u001b[39;49m\u001b[43mprepare_request\u001b[49m\u001b[43m(\u001b[49m\u001b[43mreq\u001b[49m\u001b[43m)\u001b[49m\n\u001b[1;32m    575\u001b[0m proxies \u001b[38;5;241m=\u001b[39m proxies \u001b[38;5;129;01mor\u001b[39;00m {}\n\u001b[1;32m    577\u001b[0m settings \u001b[38;5;241m=\u001b[39m \u001b[38;5;28mself\u001b[39m\u001b[38;5;241m.\u001b[39mmerge_environment_settings(\n\u001b[1;32m    578\u001b[0m     prep\u001b[38;5;241m.\u001b[39murl, proxies, stream, verify, cert\n\u001b[1;32m    579\u001b[0m )\n",
      "File \u001b[0;32m/usr/lib/python3/dist-packages/requests/sessions.py:484\u001b[0m, in \u001b[0;36mSession.prepare_request\u001b[0;34m(self, request)\u001b[0m\n\u001b[1;32m    481\u001b[0m     auth \u001b[38;5;241m=\u001b[39m get_netrc_auth(request\u001b[38;5;241m.\u001b[39murl)\n\u001b[1;32m    483\u001b[0m p \u001b[38;5;241m=\u001b[39m PreparedRequest()\n\u001b[0;32m--> 484\u001b[0m \u001b[43mp\u001b[49m\u001b[38;5;241;43m.\u001b[39;49m\u001b[43mprepare\u001b[49m\u001b[43m(\u001b[49m\n\u001b[1;32m    485\u001b[0m \u001b[43m    \u001b[49m\u001b[43mmethod\u001b[49m\u001b[38;5;241;43m=\u001b[39;49m\u001b[43mrequest\u001b[49m\u001b[38;5;241;43m.\u001b[39;49m\u001b[43mmethod\u001b[49m\u001b[38;5;241;43m.\u001b[39;49m\u001b[43mupper\u001b[49m\u001b[43m(\u001b[49m\u001b[43m)\u001b[49m\u001b[43m,\u001b[49m\n\u001b[1;32m    486\u001b[0m \u001b[43m    \u001b[49m\u001b[43murl\u001b[49m\u001b[38;5;241;43m=\u001b[39;49m\u001b[43mrequest\u001b[49m\u001b[38;5;241;43m.\u001b[39;49m\u001b[43murl\u001b[49m\u001b[43m,\u001b[49m\n\u001b[1;32m    487\u001b[0m \u001b[43m    \u001b[49m\u001b[43mfiles\u001b[49m\u001b[38;5;241;43m=\u001b[39;49m\u001b[43mrequest\u001b[49m\u001b[38;5;241;43m.\u001b[39;49m\u001b[43mfiles\u001b[49m\u001b[43m,\u001b[49m\n\u001b[1;32m    488\u001b[0m \u001b[43m    \u001b[49m\u001b[43mdata\u001b[49m\u001b[38;5;241;43m=\u001b[39;49m\u001b[43mrequest\u001b[49m\u001b[38;5;241;43m.\u001b[39;49m\u001b[43mdata\u001b[49m\u001b[43m,\u001b[49m\n\u001b[1;32m    489\u001b[0m \u001b[43m    \u001b[49m\u001b[43mjson\u001b[49m\u001b[38;5;241;43m=\u001b[39;49m\u001b[43mrequest\u001b[49m\u001b[38;5;241;43m.\u001b[39;49m\u001b[43mjson\u001b[49m\u001b[43m,\u001b[49m\n\u001b[1;32m    490\u001b[0m \u001b[43m    \u001b[49m\u001b[43mheaders\u001b[49m\u001b[38;5;241;43m=\u001b[39;49m\u001b[43mmerge_setting\u001b[49m\u001b[43m(\u001b[49m\n\u001b[1;32m    491\u001b[0m \u001b[43m        \u001b[49m\u001b[43mrequest\u001b[49m\u001b[38;5;241;43m.\u001b[39;49m\u001b[43mheaders\u001b[49m\u001b[43m,\u001b[49m\u001b[43m \u001b[49m\u001b[38;5;28;43mself\u001b[39;49m\u001b[38;5;241;43m.\u001b[39;49m\u001b[43mheaders\u001b[49m\u001b[43m,\u001b[49m\u001b[43m \u001b[49m\u001b[43mdict_class\u001b[49m\u001b[38;5;241;43m=\u001b[39;49m\u001b[43mCaseInsensitiveDict\u001b[49m\n\u001b[1;32m    492\u001b[0m \u001b[43m    \u001b[49m\u001b[43m)\u001b[49m\u001b[43m,\u001b[49m\n\u001b[1;32m    493\u001b[0m \u001b[43m    \u001b[49m\u001b[43mparams\u001b[49m\u001b[38;5;241;43m=\u001b[39;49m\u001b[43mmerge_setting\u001b[49m\u001b[43m(\u001b[49m\u001b[43mrequest\u001b[49m\u001b[38;5;241;43m.\u001b[39;49m\u001b[43mparams\u001b[49m\u001b[43m,\u001b[49m\u001b[43m \u001b[49m\u001b[38;5;28;43mself\u001b[39;49m\u001b[38;5;241;43m.\u001b[39;49m\u001b[43mparams\u001b[49m\u001b[43m)\u001b[49m\u001b[43m,\u001b[49m\n\u001b[1;32m    494\u001b[0m \u001b[43m    \u001b[49m\u001b[43mauth\u001b[49m\u001b[38;5;241;43m=\u001b[39;49m\u001b[43mmerge_setting\u001b[49m\u001b[43m(\u001b[49m\u001b[43mauth\u001b[49m\u001b[43m,\u001b[49m\u001b[43m \u001b[49m\u001b[38;5;28;43mself\u001b[39;49m\u001b[38;5;241;43m.\u001b[39;49m\u001b[43mauth\u001b[49m\u001b[43m)\u001b[49m\u001b[43m,\u001b[49m\n\u001b[1;32m    495\u001b[0m \u001b[43m    \u001b[49m\u001b[43mcookies\u001b[49m\u001b[38;5;241;43m=\u001b[39;49m\u001b[43mmerged_cookies\u001b[49m\u001b[43m,\u001b[49m\n\u001b[1;32m    496\u001b[0m \u001b[43m    \u001b[49m\u001b[43mhooks\u001b[49m\u001b[38;5;241;43m=\u001b[39;49m\u001b[43mmerge_hooks\u001b[49m\u001b[43m(\u001b[49m\u001b[43mrequest\u001b[49m\u001b[38;5;241;43m.\u001b[39;49m\u001b[43mhooks\u001b[49m\u001b[43m,\u001b[49m\u001b[43m \u001b[49m\u001b[38;5;28;43mself\u001b[39;49m\u001b[38;5;241;43m.\u001b[39;49m\u001b[43mhooks\u001b[49m\u001b[43m)\u001b[49m\u001b[43m,\u001b[49m\n\u001b[1;32m    497\u001b[0m \u001b[43m\u001b[49m\u001b[43m)\u001b[49m\n\u001b[1;32m    498\u001b[0m \u001b[38;5;28;01mreturn\u001b[39;00m p\n",
      "File \u001b[0;32m/usr/lib/python3/dist-packages/requests/models.py:372\u001b[0m, in \u001b[0;36mPreparedRequest.prepare\u001b[0;34m(self, method, url, headers, files, data, params, auth, cookies, hooks, json)\u001b[0m\n\u001b[1;32m    370\u001b[0m \u001b[38;5;28mself\u001b[39m\u001b[38;5;241m.\u001b[39mprepare_cookies(cookies)\n\u001b[1;32m    371\u001b[0m \u001b[38;5;28mself\u001b[39m\u001b[38;5;241m.\u001b[39mprepare_body(data, files, json)\n\u001b[0;32m--> 372\u001b[0m \u001b[38;5;28;43mself\u001b[39;49m\u001b[38;5;241;43m.\u001b[39;49m\u001b[43mprepare_auth\u001b[49m\u001b[43m(\u001b[49m\u001b[43mauth\u001b[49m\u001b[43m,\u001b[49m\u001b[43m \u001b[49m\u001b[43murl\u001b[49m\u001b[43m)\u001b[49m\n\u001b[1;32m    374\u001b[0m \u001b[38;5;66;03m# Note that prepare_auth must be last to enable authentication schemes\u001b[39;00m\n\u001b[1;32m    375\u001b[0m \u001b[38;5;66;03m# such as OAuth to work on a fully prepared request.\u001b[39;00m\n\u001b[1;32m    376\u001b[0m \n\u001b[1;32m    377\u001b[0m \u001b[38;5;66;03m# This MUST go after prepare_auth. Authenticators could add a hook\u001b[39;00m\n\u001b[1;32m    378\u001b[0m \u001b[38;5;28mself\u001b[39m\u001b[38;5;241m.\u001b[39mprepare_hooks(hooks)\n",
      "File \u001b[0;32m/usr/lib/python3/dist-packages/requests/models.py:603\u001b[0m, in \u001b[0;36mPreparedRequest.prepare_auth\u001b[0;34m(self, auth, url)\u001b[0m\n\u001b[1;32m    600\u001b[0m     auth \u001b[38;5;241m=\u001b[39m HTTPBasicAuth(\u001b[38;5;241m*\u001b[39mauth)\n\u001b[1;32m    602\u001b[0m \u001b[38;5;66;03m# Allow auth to make its changes.\u001b[39;00m\n\u001b[0;32m--> 603\u001b[0m r \u001b[38;5;241m=\u001b[39m \u001b[43mauth\u001b[49m\u001b[43m(\u001b[49m\u001b[38;5;28;43mself\u001b[39;49m\u001b[43m)\u001b[49m\n\u001b[1;32m    605\u001b[0m \u001b[38;5;66;03m# Update self to reflect the auth changes.\u001b[39;00m\n\u001b[1;32m    606\u001b[0m \u001b[38;5;28mself\u001b[39m\u001b[38;5;241m.\u001b[39m\u001b[38;5;18m__dict__\u001b[39m\u001b[38;5;241m.\u001b[39mupdate(r\u001b[38;5;241m.\u001b[39m\u001b[38;5;18m__dict__\u001b[39m)\n",
      "File \u001b[0;32m~/.local/lib/python3.10/site-packages/requests_oauthlib/oauth1_auth.py:108\u001b[0m, in \u001b[0;36mOAuth1.__call__\u001b[0;34m(self, r)\u001b[0m\n\u001b[1;32m    103\u001b[0m     r\u001b[38;5;241m.\u001b[39murl, headers, r\u001b[38;5;241m.\u001b[39mbody \u001b[38;5;241m=\u001b[39m \u001b[38;5;28mself\u001b[39m\u001b[38;5;241m.\u001b[39mclient\u001b[38;5;241m.\u001b[39msign(\n\u001b[1;32m    104\u001b[0m         unicode(r\u001b[38;5;241m.\u001b[39murl), unicode(r\u001b[38;5;241m.\u001b[39mmethod), r\u001b[38;5;241m.\u001b[39mbody \u001b[38;5;129;01mor\u001b[39;00m \u001b[38;5;124m\"\u001b[39m\u001b[38;5;124m\"\u001b[39m, r\u001b[38;5;241m.\u001b[39mheaders\n\u001b[1;32m    105\u001b[0m     )\n\u001b[1;32m    106\u001b[0m \u001b[38;5;28;01melse\u001b[39;00m:\n\u001b[1;32m    107\u001b[0m     \u001b[38;5;66;03m# Omit body data in the signing of non form-encoded requests\u001b[39;00m\n\u001b[0;32m--> 108\u001b[0m     r\u001b[38;5;241m.\u001b[39murl, headers, _ \u001b[38;5;241m=\u001b[39m \u001b[38;5;28;43mself\u001b[39;49m\u001b[38;5;241;43m.\u001b[39;49m\u001b[43mclient\u001b[49m\u001b[38;5;241;43m.\u001b[39;49m\u001b[43msign\u001b[49m\u001b[43m(\u001b[49m\n\u001b[1;32m    109\u001b[0m \u001b[43m        \u001b[49m\u001b[43municode\u001b[49m\u001b[43m(\u001b[49m\u001b[43mr\u001b[49m\u001b[38;5;241;43m.\u001b[39;49m\u001b[43murl\u001b[49m\u001b[43m)\u001b[49m\u001b[43m,\u001b[49m\u001b[43m \u001b[49m\u001b[43municode\u001b[49m\u001b[43m(\u001b[49m\u001b[43mr\u001b[49m\u001b[38;5;241;43m.\u001b[39;49m\u001b[43mmethod\u001b[49m\u001b[43m)\u001b[49m\u001b[43m,\u001b[49m\u001b[43m \u001b[49m\u001b[38;5;28;43;01mNone\u001b[39;49;00m\u001b[43m,\u001b[49m\u001b[43m \u001b[49m\u001b[43mr\u001b[49m\u001b[38;5;241;43m.\u001b[39;49m\u001b[43mheaders\u001b[49m\n\u001b[1;32m    110\u001b[0m \u001b[43m    \u001b[49m\u001b[43m)\u001b[49m\n\u001b[1;32m    112\u001b[0m r\u001b[38;5;241m.\u001b[39mprepare_headers(headers)\n\u001b[1;32m    113\u001b[0m r\u001b[38;5;241m.\u001b[39murl \u001b[38;5;241m=\u001b[39m to_native_string(r\u001b[38;5;241m.\u001b[39murl)\n",
      "File \u001b[0;32m~/.local/lib/python3.10/site-packages/oauthlib/oauth1/rfc5849/__init__.py:351\u001b[0m, in \u001b[0;36mClient.sign\u001b[0;34m(self, uri, http_method, body, headers, realm)\u001b[0m\n\u001b[1;32m    347\u001b[0m request\u001b[38;5;241m.\u001b[39moauth_params \u001b[38;5;241m=\u001b[39m \u001b[38;5;28mself\u001b[39m\u001b[38;5;241m.\u001b[39mget_oauth_params(request)\n\u001b[1;32m    349\u001b[0m \u001b[38;5;66;03m# generate the signature\u001b[39;00m\n\u001b[1;32m    350\u001b[0m request\u001b[38;5;241m.\u001b[39moauth_params\u001b[38;5;241m.\u001b[39mappend(\n\u001b[0;32m--> 351\u001b[0m     (\u001b[38;5;124m'\u001b[39m\u001b[38;5;124moauth_signature\u001b[39m\u001b[38;5;124m'\u001b[39m, \u001b[38;5;28;43mself\u001b[39;49m\u001b[38;5;241;43m.\u001b[39;49m\u001b[43mget_oauth_signature\u001b[49m\u001b[43m(\u001b[49m\u001b[43mrequest\u001b[49m\u001b[43m)\u001b[49m))\n\u001b[1;32m    353\u001b[0m \u001b[38;5;66;03m# render the signed request and return it\u001b[39;00m\n\u001b[1;32m    354\u001b[0m uri, headers, body \u001b[38;5;241m=\u001b[39m \u001b[38;5;28mself\u001b[39m\u001b[38;5;241m.\u001b[39m_render(request, formencode\u001b[38;5;241m=\u001b[39m\u001b[38;5;28;01mTrue\u001b[39;00m,\n\u001b[1;32m    355\u001b[0m                                   realm\u001b[38;5;241m=\u001b[39m(realm \u001b[38;5;129;01mor\u001b[39;00m \u001b[38;5;28mself\u001b[39m\u001b[38;5;241m.\u001b[39mrealm))\n",
      "File \u001b[0;32m~/.local/lib/python3.10/site-packages/oauthlib/oauth1/rfc5849/__init__.py:186\u001b[0m, in \u001b[0;36mClient.get_oauth_signature\u001b[0;34m(self, request)\u001b[0m\n\u001b[1;32m    183\u001b[0m \u001b[38;5;28;01mif\u001b[39;00m \u001b[38;5;28mself\u001b[39m\u001b[38;5;241m.\u001b[39msignature_method \u001b[38;5;129;01mnot\u001b[39;00m \u001b[38;5;129;01min\u001b[39;00m \u001b[38;5;28mself\u001b[39m\u001b[38;5;241m.\u001b[39mSIGNATURE_METHODS:\n\u001b[1;32m    184\u001b[0m     \u001b[38;5;28;01mraise\u001b[39;00m \u001b[38;5;167;01mValueError\u001b[39;00m(\u001b[38;5;124m'\u001b[39m\u001b[38;5;124mInvalid signature method.\u001b[39m\u001b[38;5;124m'\u001b[39m)\n\u001b[0;32m--> 186\u001b[0m sig \u001b[38;5;241m=\u001b[39m \u001b[38;5;28;43mself\u001b[39;49m\u001b[38;5;241;43m.\u001b[39;49m\u001b[43mSIGNATURE_METHODS\u001b[49m\u001b[43m[\u001b[49m\u001b[38;5;28;43mself\u001b[39;49m\u001b[38;5;241;43m.\u001b[39;49m\u001b[43msignature_method\u001b[49m\u001b[43m]\u001b[49m\u001b[43m(\u001b[49m\u001b[43mbase_string\u001b[49m\u001b[43m,\u001b[49m\u001b[43m \u001b[49m\u001b[38;5;28;43mself\u001b[39;49m\u001b[43m)\u001b[49m\n\u001b[1;32m    188\u001b[0m log\u001b[38;5;241m.\u001b[39mdebug(\u001b[38;5;124m\"\u001b[39m\u001b[38;5;124mSignature: \u001b[39m\u001b[38;5;132;01m{}\u001b[39;00m\u001b[38;5;124m\"\u001b[39m\u001b[38;5;241m.\u001b[39mformat(sig))\n\u001b[1;32m    189\u001b[0m \u001b[38;5;28;01mreturn\u001b[39;00m sig\n",
      "File \u001b[0;32m~/.local/lib/python3.10/site-packages/oauthlib/oauth1/rfc5849/signature.py:751\u001b[0m, in \u001b[0;36msign_rsa_sha1_with_client\u001b[0;34m(sig_base_str, client)\u001b[0m\n\u001b[1;32m    741\u001b[0m \u001b[38;5;28;01mdef\u001b[39;00m \u001b[38;5;21msign_rsa_sha1_with_client\u001b[39m(sig_base_str, client):\n\u001b[1;32m    742\u001b[0m     \u001b[38;5;66;03m# For some reason, this function originally accepts both str and bytes.\u001b[39;00m\n\u001b[1;32m    743\u001b[0m     \u001b[38;5;66;03m# This behaviour is preserved here. But won't be done for the newer\u001b[39;00m\n\u001b[0;32m   (...)\u001b[0m\n\u001b[1;32m    746\u001b[0m     \u001b[38;5;66;03m# \"signature base string\" always produces a string, so it is not clear\u001b[39;00m\n\u001b[1;32m    747\u001b[0m     \u001b[38;5;66;03m# why support for bytes would ever be needed.\u001b[39;00m\n\u001b[1;32m    748\u001b[0m     sig_base_str \u001b[38;5;241m=\u001b[39m sig_base_str\u001b[38;5;241m.\u001b[39mdecode(\u001b[38;5;124m'\u001b[39m\u001b[38;5;124mascii\u001b[39m\u001b[38;5;124m'\u001b[39m)\\\n\u001b[1;32m    749\u001b[0m         \u001b[38;5;28;01mif\u001b[39;00m \u001b[38;5;28misinstance\u001b[39m(sig_base_str, \u001b[38;5;28mbytes\u001b[39m) \u001b[38;5;28;01melse\u001b[39;00m sig_base_str\n\u001b[0;32m--> 751\u001b[0m     \u001b[38;5;28;01mreturn\u001b[39;00m \u001b[43m_sign_rsa\u001b[49m\u001b[43m(\u001b[49m\u001b[38;5;124;43m'\u001b[39;49m\u001b[38;5;124;43mSHA-1\u001b[39;49m\u001b[38;5;124;43m'\u001b[39;49m\u001b[43m,\u001b[49m\u001b[43m \u001b[49m\u001b[43msig_base_str\u001b[49m\u001b[43m,\u001b[49m\u001b[43m \u001b[49m\u001b[43mclient\u001b[49m\u001b[38;5;241;43m.\u001b[39;49m\u001b[43mrsa_key\u001b[49m\u001b[43m)\u001b[49m\n",
      "File \u001b[0;32m~/.local/lib/python3.10/site-packages/oauthlib/oauth1/rfc5849/signature.py:626\u001b[0m, in \u001b[0;36m_sign_rsa\u001b[0;34m(hash_algorithm_name, sig_base_str, rsa_private_key)\u001b[0m\n\u001b[1;32m    601\u001b[0m \u001b[38;5;124;03m\"\"\"\u001b[39;00m\n\u001b[1;32m    602\u001b[0m \u001b[38;5;124;03mCalculate the signature for an RSA-based signature method.\u001b[39;00m\n\u001b[1;32m    603\u001b[0m \n\u001b[0;32m   (...)\u001b[0m\n\u001b[1;32m    621\u001b[0m \u001b[38;5;124;03m.. _`RFC3447, Section 8.2`: https://tools.ietf.org/html/rfc3447#section-8.2\u001b[39;00m\n\u001b[1;32m    622\u001b[0m \u001b[38;5;124;03m\"\"\"\u001b[39;00m\n\u001b[1;32m    624\u001b[0m \u001b[38;5;66;03m# Get the implementation of RSA-hash\u001b[39;00m\n\u001b[0;32m--> 626\u001b[0m alg \u001b[38;5;241m=\u001b[39m \u001b[43m_get_jwt_rsa_algorithm\u001b[49m\u001b[43m(\u001b[49m\u001b[43mhash_algorithm_name\u001b[49m\u001b[43m)\u001b[49m\n\u001b[1;32m    628\u001b[0m \u001b[38;5;66;03m# Check private key\u001b[39;00m\n\u001b[1;32m    630\u001b[0m \u001b[38;5;28;01mif\u001b[39;00m \u001b[38;5;129;01mnot\u001b[39;00m rsa_private_key:\n",
      "File \u001b[0;32m~/.local/lib/python3.10/site-packages/oauthlib/oauth1/rfc5849/signature.py:571\u001b[0m, in \u001b[0;36m_get_jwt_rsa_algorithm\u001b[0;34m(hash_algorithm_name)\u001b[0m\n\u001b[1;32m    566\u001b[0m     \u001b[38;5;28;01mreturn\u001b[39;00m _jwt_rsa[hash_algorithm_name]\n\u001b[1;32m    567\u001b[0m \u001b[38;5;28;01melse\u001b[39;00m:\n\u001b[1;32m    568\u001b[0m     \u001b[38;5;66;03m# Not in cache: instantiate a new RSAAlgorithm\u001b[39;00m\n\u001b[1;32m    569\u001b[0m \n\u001b[1;32m    570\u001b[0m     \u001b[38;5;66;03m# PyJWT has some nice pycrypto/cryptography abstractions\u001b[39;00m\n\u001b[0;32m--> 571\u001b[0m     \u001b[38;5;28;01mimport\u001b[39;00m \u001b[38;5;21;01mjwt\u001b[39;00m\u001b[38;5;21;01m.\u001b[39;00m\u001b[38;5;21;01malgorithms\u001b[39;00m \u001b[38;5;28;01mas\u001b[39;00m \u001b[38;5;21;01mjwt_algorithms\u001b[39;00m\n\u001b[1;32m    572\u001b[0m     m \u001b[38;5;241m=\u001b[39m {\n\u001b[1;32m    573\u001b[0m         \u001b[38;5;124m'\u001b[39m\u001b[38;5;124mSHA-1\u001b[39m\u001b[38;5;124m'\u001b[39m: jwt_algorithms\u001b[38;5;241m.\u001b[39mhashes\u001b[38;5;241m.\u001b[39mSHA1,\n\u001b[1;32m    574\u001b[0m         \u001b[38;5;124m'\u001b[39m\u001b[38;5;124mSHA-256\u001b[39m\u001b[38;5;124m'\u001b[39m: jwt_algorithms\u001b[38;5;241m.\u001b[39mhashes\u001b[38;5;241m.\u001b[39mSHA256,\n\u001b[1;32m    575\u001b[0m         \u001b[38;5;124m'\u001b[39m\u001b[38;5;124mSHA-512\u001b[39m\u001b[38;5;124m'\u001b[39m: jwt_algorithms\u001b[38;5;241m.\u001b[39mhashes\u001b[38;5;241m.\u001b[39mSHA512,\n\u001b[1;32m    576\u001b[0m     }\n\u001b[1;32m    577\u001b[0m     v \u001b[38;5;241m=\u001b[39m jwt_algorithms\u001b[38;5;241m.\u001b[39mRSAAlgorithm(m[hash_algorithm_name])\n",
      "File \u001b[0;32m~/.local/lib/python3.10/site-packages/jwt/algorithms.py:5\u001b[0m\n\u001b[1;32m      2\u001b[0m \u001b[38;5;28;01mimport\u001b[39;00m \u001b[38;5;21;01mhmac\u001b[39;00m\n\u001b[1;32m      3\u001b[0m \u001b[38;5;28;01mimport\u001b[39;00m \u001b[38;5;21;01mjson\u001b[39;00m\n\u001b[0;32m----> 5\u001b[0m \u001b[38;5;28;01mfrom\u001b[39;00m \u001b[38;5;21;01m.\u001b[39;00m\u001b[38;5;21;01mexceptions\u001b[39;00m \u001b[38;5;28;01mimport\u001b[39;00m InvalidKeyError\n\u001b[1;32m      6\u001b[0m \u001b[38;5;28;01mfrom\u001b[39;00m \u001b[38;5;21;01m.\u001b[39;00m\u001b[38;5;21;01mutils\u001b[39;00m \u001b[38;5;28;01mimport\u001b[39;00m (\n\u001b[1;32m      7\u001b[0m     base64url_decode,\n\u001b[1;32m      8\u001b[0m     base64url_encode,\n\u001b[0;32m   (...)\u001b[0m\n\u001b[1;32m     15\u001b[0m     to_base64url_uint,\n\u001b[1;32m     16\u001b[0m )\n\u001b[1;32m     18\u001b[0m \u001b[38;5;28;01mtry\u001b[39;00m:\n",
      "\u001b[0;31mImportError\u001b[0m: cannot import name 'InvalidKeyError' from 'jwt.exceptions' (/home/wjk/.local/lib/python3.10/site-packages/jwt/exceptions.py)"
     ]
    }
   ],
   "source": [
    "# Step 2: Read config.properties file\n",
    "config = configparser.ConfigParser()\n",
    "config.read('./config.properties')\n",
    "\n",
    "# Step 3: Assign values from config.properties file to variables\n",
    "access_token = config.get('OAUTH', 'access_token')\n",
    "access_token_secret = config.get('OAUTH', 'access_token_secret')\n",
    "consumer_key = config.get('OAUTH', 'consumer_key')\n",
    "key_cert = config.get('OAUTH', 'key_cert')\n",
    "\n",
    "# Step 4: Connect to Jira using OAuth\n",
    "jira = JIRA(oauth={\n",
    "    \"access_token\": access_token,\n",
    "    \"access_token_secret\": access_token_secret,\n",
    "    \"consumer_key\": consumer_key,\n",
    "    \"key_cert\": key_cert\n",
    "})"
   ]
  },
  {
   "cell_type": "code",
   "execution_count": 30,
   "id": "b923841b-73d3-4a92-a475-833502b6b945",
   "metadata": {},
   "outputs": [],
   "source": [
    "# Import widgets and interact library\n",
    "from ipywidgets import widgets, interact\n",
    "\n",
    "# Create text widget for JQL input\n",
    "jql_widget = widgets.Text()\n",
    "\n",
    "# Create submit button\n",
    "submit_button = widgets.Button(description='Submit')\n"
   ]
  },
  {
   "cell_type": "code",
   "execution_count": 31,
   "id": "177beabb-7cf2-49bf-bc23-3f997f66190d",
   "metadata": {},
   "outputs": [],
   "source": [
    "def submit_query(submit_button):\n",
    "    jql = jql_widget.value\n",
    "    issues = jira.search_issues(jql)"
   ]
  },
  {
   "cell_type": "code",
   "execution_count": 32,
   "id": "77ad2b0a-11f3-4966-ba71-5786bc22f1e5",
   "metadata": {},
   "outputs": [
    {
     "ename": "NameError",
     "evalue": "name 'issues' is not defined",
     "output_type": "error",
     "traceback": [
      "\u001b[0;31m---------------------------------------------------------------------------\u001b[0m",
      "\u001b[0;31mNameError\u001b[0m                                 Traceback (most recent call last)",
      "Cell \u001b[0;32mIn [32], line 5\u001b[0m\n\u001b[1;32m      2\u001b[0m df \u001b[38;5;241m=\u001b[39m pd\u001b[38;5;241m.\u001b[39mDataFrame()\n\u001b[1;32m      4\u001b[0m \u001b[38;5;66;03m# Iterate through the issues and extract relevant data\u001b[39;00m\n\u001b[0;32m----> 5\u001b[0m \u001b[38;5;28;01mfor\u001b[39;00m issue \u001b[38;5;129;01min\u001b[39;00m \u001b[43missues\u001b[49m:\n\u001b[1;32m      6\u001b[0m     project_key \u001b[38;5;241m=\u001b[39m issue\u001b[38;5;241m.\u001b[39mfields\u001b[38;5;241m.\u001b[39mproject\u001b[38;5;241m.\u001b[39mkey\n\u001b[1;32m      7\u001b[0m     summary \u001b[38;5;241m=\u001b[39m issue\u001b[38;5;241m.\u001b[39mfields\u001b[38;5;241m.\u001b[39msummary\n",
      "\u001b[0;31mNameError\u001b[0m: name 'issues' is not defined"
     ]
    }
   ],
   "source": [
    "# Create an empty dataframe\n",
    "df = pd.DataFrame()\n",
    "\n",
    "# Iterate through the issues and extract relevant data\n",
    "for issue in issues:\n",
    "    project_key = issue.fields.project.key\n",
    "    summary = issue.fields.summary\n",
    "    description = issue.fields.description\n",
    "    comments = [c.body for c in jira.comments(issue)]\n",
    "    df = df.append({'Project Key': project_key,\n",
    "                   'Summary': summary,\n",
    "                   'Description': description,\n",
    "                   'Comments': comments}, ignore_index=True)\n",
    "\n",
    "# Display the dataframe\n",
    "print(df)\n"
   ]
  },
  {
   "cell_type": "code",
   "execution_count": null,
   "id": "ace82bc9-9da8-4636-add1-af96b9493855",
   "metadata": {},
   "outputs": [],
   "source": [
    "# Create X and y variables\n",
    "X = df[['Summary', 'Description', 'Comments']]\n",
    "y = df['Project Key']\n"
   ]
  },
  {
   "cell_type": "code",
   "execution_count": null,
   "id": "6526d4c7-3eae-48a0-8152-bbf3bb5d1b37",
   "metadata": {},
   "outputs": [],
   "source": [
    "# Create classifier\n",
    "clf = RandomForestClassifier()\n",
    "\n",
    "# Fit classifier to data\n",
    "clf.fit(X, y)\n"
   ]
  },
  {
   "cell_type": "code",
   "execution_count": null,
   "id": "cf8f7f35-6fe1-4a82-8dd9-f1dbe556d256",
   "metadata": {},
   "outputs": [],
   "source": [
    "# Import metrics library\n",
    "from sklearn import metrics\n",
    "\n",
    "# Predict on X test\n",
    "y_pred = clf.predict(X)\n",
    "\n",
    "# Print metrics\n",
    "print(\"Accuracy:\",metrics.accuracy_score(y, y_pred))\n"
   ]
  },
  {
   "cell_type": "markdown",
   "id": "34e9181a-b9dd-4268-bf8e-cd87369928d7",
   "metadata": {},
   "source": [
    "# Dump the Pickle"
   ]
  },
  {
   "cell_type": "code",
   "execution_count": null,
   "id": "f1926d88-8b96-4d22-8336-544b7bcd7878",
   "metadata": {},
   "outputs": [],
   "source": [
    "# Import pickle library\n",
    "import pickle\n",
    "\n",
    "# Save classifier\n",
    "with open('classifier.pkl', 'wb') as f:\n",
    "    pickle.dump(clf, f)\n"
   ]
  },
  {
   "cell_type": "code",
   "execution_count": null,
   "id": "15cbf945-d73b-4b22-bf46-8860fb0ae077",
   "metadata": {},
   "outputs": [],
   "source": []
  }
 ],
 "metadata": {
  "kernelspec": {
   "display_name": "Python 3 (ipykernel)",
   "language": "python",
   "name": "python3"
  },
  "language_info": {
   "codemirror_mode": {
    "name": "ipython",
    "version": 3
   },
   "file_extension": ".py",
   "mimetype": "text/x-python",
   "name": "python",
   "nbconvert_exporter": "python",
   "pygments_lexer": "ipython3",
   "version": "3.10.9"
  }
 },
 "nbformat": 4,
 "nbformat_minor": 5
}
