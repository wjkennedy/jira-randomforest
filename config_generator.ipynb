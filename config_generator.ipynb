{
 "cells": [
  {
   "cell_type": "markdown",
   "id": "b1b89281-d7d6-477c-8b7c-4d10a3b8d16a",
   "metadata": {
    "tags": []
   },
   "source": [
    "# Jira OAuth Config Generator\n",
    "find config.properties in this directory"
   ]
  },
  {
   "cell_type": "code",
   "execution_count": 3,
   "id": "a0437731-b3a1-4fbf-8616-2866a97358dc",
   "metadata": {
    "jupyter": {
     "source_hidden": true
    },
    "tags": []
   },
   "outputs": [
    {
     "data": {
      "application/vnd.jupyter.widget-view+json": {
       "model_id": "93f1db6904764ceb926e3fe679dd5056",
       "version_major": 2,
       "version_minor": 0
      },
      "text/plain": [
       "Text(value='', description='Access token:', placeholder='Enter access token')"
      ]
     },
     "metadata": {},
     "output_type": "display_data"
    },
    {
     "data": {
      "application/vnd.jupyter.widget-view+json": {
       "model_id": "9222127e80da4bfe86f3a405910d733b",
       "version_major": 2,
       "version_minor": 0
      },
      "text/plain": [
       "Text(value='', description='Access token secret:', placeholder='Enter access token secret')"
      ]
     },
     "metadata": {},
     "output_type": "display_data"
    },
    {
     "data": {
      "application/vnd.jupyter.widget-view+json": {
       "model_id": "e36278099779443bbba788da45bb99c7",
       "version_major": 2,
       "version_minor": 0
      },
      "text/plain": [
       "Text(value='', description='Consumer key:', placeholder='Enter consumer key')"
      ]
     },
     "metadata": {},
     "output_type": "display_data"
    },
    {
     "data": {
      "application/vnd.jupyter.widget-view+json": {
       "model_id": "c7d0714699294636a69c6ab982f937dd",
       "version_major": 2,
       "version_minor": 0
      },
      "text/plain": [
       "Text(value='', description='Key cert:', placeholder='Enter key cert')"
      ]
     },
     "metadata": {},
     "output_type": "display_data"
    },
    {
     "data": {
      "application/vnd.jupyter.widget-view+json": {
       "model_id": "75493107697e4e5bb45cd17ec968f225",
       "version_major": 2,
       "version_minor": 0
      },
      "text/plain": [
       "Button(description='Submit', style=ButtonStyle())"
      ]
     },
     "metadata": {},
     "output_type": "display_data"
    }
   ],
   "source": [
    "# Step 1: Import necessary modules\n",
    "from configparser import ConfigParser\n",
    "from ipywidgets import widgets\n",
    "from IPython.display import display\n",
    "\n",
    "# Step 2: Create text input widgets for the OAuth credentials\n",
    "access_token = widgets.Text(\n",
    "    placeholder='Enter access token',\n",
    "    description='Access token:',\n",
    "    disabled=False\n",
    ")\n",
    "access_token_secret = widgets.Text(\n",
    "    placeholder='Enter access token secret',\n",
    "    description='Access token secret:',\n",
    "    disabled=False\n",
    ")\n",
    "consumer_key = widgets.Text(\n",
    "    placeholder='Enter consumer key',\n",
    "    description='Consumer key:',\n",
    "    disabled=False\n",
    ")\n",
    "key_cert = widgets.Text(\n",
    "    placeholder='Enter key cert',\n",
    "    description='Key cert:',\n",
    "    disabled=False\n",
    ")\n",
    "\n",
    "# Step 3: Create a button widget to submit the OAuth credentials\n",
    "submit_button = widgets.Button(description='Submit')\n",
    "\n",
    "# Step 4: Display the widgets\n",
    "display(access_token, access_token_secret, consumer_key, key_cert, submit_button)\n",
    "\n",
    "# Step 5: Define a function to write the OAuth credentials to config.properties when the button is clicked\n",
    "def on_button_clicked(b):\n",
    "    config = ConfigParser()\n",
    "    config['oauth'] = {\n",
    "        \"access_token\": access_token.value,\n",
    "        \"access_token_secret\": access_token_secret.value,\n",
    "        \"consumer_key\": consumer_key.value,\n",
    "        \"key_cert\": key_cert.value\n",
    "    }\n",
    "    with open('config.properties', 'w') as configfile:\n",
    "        config.write(configfile)\n",
    "    print(\"OAuth credentials written to config.properties\")\n",
    "\n",
    "# Step 6: Attach the function to the button's click event\n",
    "submit_button.on_click(on_button_clicked)\n"
   ]
  },
  {
   "cell_type": "code",
   "execution_count": null,
   "id": "c0447cf1-d3a8-4f56-bb04-5eaa5ebb0c9b",
   "metadata": {},
   "outputs": [],
   "source": []
  }
 ],
 "metadata": {
  "kernelspec": {
   "display_name": "Python 3 (ipykernel)",
   "language": "python",
   "name": "python3"
  },
  "language_info": {
   "codemirror_mode": {
    "name": "ipython",
    "version": 3
   },
   "file_extension": ".py",
   "mimetype": "text/x-python",
   "name": "python",
   "nbconvert_exporter": "python",
   "pygments_lexer": "ipython3",
   "version": "3.10.9"
  }
 },
 "nbformat": 4,
 "nbformat_minor": 5
}
